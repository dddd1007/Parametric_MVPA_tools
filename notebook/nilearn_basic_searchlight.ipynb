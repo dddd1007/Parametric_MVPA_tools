{
 "cells": [
  {
   "cell_type": "markdown",
   "metadata": {},
   "source": [
    "# Auto Searchlight Tool protocol\n",
    "\n",
    "本 Notebook 旨在编写一个批量进行 searchlight 分析的原型, 用来搜索和任务相关的区域.\n",
    "\n",
    "完成一个 MVPA 分析的基本过程包括:\n",
    "\n",
    "1. 导入数据\n",
    "2. 使用估计器进行拟合\n",
    "3. 展示结果\n",
    "\n",
    "其中, 使用 Nilearn 可以高效地执行第二步过程, 代码仅需三行:\n",
    "\n",
    "```\n",
    "from nilearn.decoding import Decoder\n",
    "decoder = Decoder(estimator='svc', mask=mask_filename, standardize=Ture) \n",
    "decoder.fit(fmri_niimgs, conditions)\n",
    "```\n",
    "其中, 传入 `standardize=True` 参数可以方便地对数据集进行标准化, 防止过拟合等问题等发生. 个人认为也可以解决连接多个 run/session 的问题."
   ]
  },
  {
   "source": [
    "## 第一步: 导入数据\n",
    "\n",
    "1. 导入数据\n",
    "2. 对影像数据进行 Mask (在确定仅分析 ROI 的前提下)\n",
    "3. 导入行为数据\n",
    "4. 对时间序列数据进行 Mask (即只取任务相关的子集)"
   ],
   "cell_type": "markdown",
   "metadata": {}
  },
  {
   "cell_type": "code",
   "execution_count": null,
   "metadata": {},
   "outputs": [],
   "source": [
    "#TODO 在 Nilearn 教程中提到, 可以根据 GLM 模型来提取响应信号, 进行进一步分析. 该过程值得被考虑.\n",
    "\n",
    "###\n",
    "### 导入数据\n",
    "###\n",
    "\n"
   ]
  }
 ],
 "metadata": {
  "kernelspec": {
   "display_name": "Python 3",
   "language": "python",
   "name": "python3"
  },
  "language_info": {
   "codemirror_mode": {
    "name": "ipython",
    "version": 3
   },
   "file_extension": ".py",
   "mimetype": "text/x-python",
   "name": "python",
   "nbconvert_exporter": "python",
   "pygments_lexer": "ipython3",
   "version": "3.8.5"
  }
 },
 "nbformat": 4,
 "nbformat_minor": 4
}